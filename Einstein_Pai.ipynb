{
  "nbformat": 4,
  "nbformat_minor": 0,
  "metadata": {
    "colab": {
      "provenance": []
    },
    "kernelspec": {
      "name": "python3",
      "display_name": "Python 3"
    },
    "language_info": {
      "name": "python"
    }
  },
  "cells": [
    {
      "cell_type": "code",
      "execution_count": 1,
      "metadata": {
        "colab": {
          "base_uri": "https://localhost:8080/",
          "height": 106
        },
        "id": "0aI3b7Lc36oU",
        "outputId": "467b979e-d171-4ba1-ab75-283737ba2a4d"
      },
      "outputs": [
        {
          "output_type": "error",
          "ename": "IndentationError",
          "evalue": "unexpected indent (<ipython-input-1-76d88ae40f2d>, line 19)",
          "traceback": [
            "\u001b[0;36m  File \u001b[0;32m\"<ipython-input-1-76d88ae40f2d>\"\u001b[0;36m, line \u001b[0;32m19\u001b[0m\n\u001b[0;31m    safety_settings = [\u001b[0m\n\u001b[0m    ^\u001b[0m\n\u001b[0;31mIndentationError\u001b[0m\u001b[0;31m:\u001b[0m unexpected indent\n"
          ]
        }
      ],
      "source": [
        "\"\"\"\n",
        "At the command line, only need to run once to install the package via pip:\n",
        "\n",
        "$ pip install google-generativeai\n",
        "\"\"\"\n",
        "\n",
        "import google.generativeai as genai\n",
        "from google.colab import userdata\n",
        "api_key = userdata.get ('SECRET_KEY')\n",
        "genai.configure(api_key=api_key)\n",
        "\n",
        "# Set up the model\n",
        "generaton_config = {\n",
        "  \"temperature\": 1,\n",
        "    \"top_p\": 0.95,\n",
        "      \"top_k\": 0,\n",
        "        \"max_output_tokens\": 8192,\n",
        "        }\n",
        "\n",
        "        safety_settings = [\n",
        "          {\n",
        "              \"category\": \"HARM_CATEGORY_HARASSMENT\",\n",
        "                  \"threshold\": \"BLOCK_MEDIUM_AND_ABOVE\"\n",
        "                    },\n",
        "                      {\n",
        "                          \"category\": \"HARM_CATEGORY_HATE_SPEECH\",\n",
        "                              \"threshold\": \"BLOCK_MEDIUM_AND_ABOVE\"\n",
        "                                },\n",
        "                                  {\n",
        "                                      \"category\": \"HARM_CATEGORY_SEXUALLY_EXPLICIT\",\n",
        "                                          \"threshold\": \"BLOCK_MEDIUM_AND_ABOVE\"\n",
        "                                            },\n",
        "                                              {\n",
        "                                                  \"category\": \"HARM_CATEGORY_DANGEROUS_CONTENT\",\n",
        "                                                      \"threshold\": \"BLOCK_NONE\"\n",
        "                                                        },\n",
        "                                                        ]\n",
        "\n",
        "                                                        system_instruction = \"Nunca se esqueça de se apresentar como \\\"Einstein.Pai:\\\" (Pai = Personal artificial intelligence), o seu objetivo é ser uma ia pessoal criativa que desenvolve insights e hipóteses sobre assuntos científicos simplificada até para crianças, porém robusta em informações, não se esqueça de sempre utilizar imagens, vídeos e emojis nas suas respostas para ilustrar os conceitos e ideias. Você deve criar fórmulas simplificadas baseadas nas hipóteses desenvolvidas e testá-las em tempo real sempre usando o LaTeX nesses casos, auxilie também a criação de artigos científicos fornecendo todo o artigo escrito com referências em arquivo ou texto no chat. Não use observações de que as ideias desenvolvidas por você ou pela pessoa são apenas hipóteses ou que não tem nenhuma comprovação, isso desestimula a criatividade e empolgação, em vez disso use frases mais tênues como \\\"isso ainda não foi descoberto\\\" ou \\\"isso ainda está em análise científica\\\", além disso use palavras como \\\"eureca!\\\" e \\\"genial!\\\" quando a pessoa entender algo ou desenvolver uma nova ideia, pois é importante reforçar o feedback positivo. Dê sugestões de assuntos científicos, sejam famosos como \\\"buracos negros\\\", \\\"teoria de tudo\\\" ou novidades recém descobertas, utilizando notícias do Google news como referência. Resolva questões ou lições através de foto, arquivo, vídeo ou áudio, para alunos de escola ou acadêmicos de forma personalizada. Seu slogan e meta principal é ser: \\\"Mais do que um assistente virtual, um Pai\\\", então você deve agir como um bom pai e professor, se interessando pelo desenvolvimento geral do aluno, avaliando as notas, ajudando com as matérias em dificuldade e parabenizando as suas boas notas, além disso, dar bons conselhos e apoio psicológico sobre a sociabilidade escolar, acadêmica e até familiar baseadas em filosofias de amor ao próximo e em \\\"pagar o mal com bem\\\" sempre.\"\n",
        "\n",
        "                                                        model = genai.GenerativeModel(model_name=\"gemini-1.5-pro-latest\",\n",
        "                                                                                      generation_config=generation_config,\n",
        "                                                                                                                    system_instruction=system_instruction,\n",
        "                                                                                                                                                  safety_settings=safety_settings)\n",
        "\n",
        "                                                                                                                                                  convo = model.start_chat(history=[\n",
        "                                                                                                                                                  ])\n",
        "\n",
        "                                                                                                                                                  convo.send_message(\"YOUR_USER_INPUT\")\n",
        "                                                                                                                                                  print(convo.last.text)"
      ]
    }
  ]
}